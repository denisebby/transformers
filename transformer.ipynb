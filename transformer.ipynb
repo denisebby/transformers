{
 "cells": [
  {
   "cell_type": "markdown",
   "metadata": {},
   "source": [
    "# Notes"
   ]
  },
  {
   "cell_type": "markdown",
   "metadata": {},
   "source": [
    "video followed: https://www.youtube.com/watch?v=U0s0f995w14"
   ]
  },
  {
   "cell_type": "code",
   "execution_count": null,
   "metadata": {},
   "outputs": [],
   "source": []
  }
 ],
 "metadata": {
  "interpreter": {
   "hash": "6eef2a13dc96940f585cf3c15521d9c910519598d91258237f5485feeed702d6"
  },
  "kernelspec": {
   "display_name": "Python 3.8.13 ('kaggle_conda_env')",
   "language": "python",
   "name": "python3"
  },
  "language_info": {
   "name": "python",
   "version": "3.8.13"
  },
  "orig_nbformat": 4
 },
 "nbformat": 4,
 "nbformat_minor": 2
}
